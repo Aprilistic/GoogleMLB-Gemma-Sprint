{
  "cells": [
    {
      "cell_type": "code",
      "execution_count": null,
      "metadata": {
        "id": "fxnhvi_vEqy6"
      },
      "outputs": [],
      "source": [
        "!pip install -q -U transformers datasets bitsandbytes peft trl accelerate"
      ]
    },
    {
      "cell_type": "code",
      "execution_count": null,
      "metadata": {
        "id": "MCAd9SN_Eqy8"
      },
      "outputs": [],
      "source": [
        "import torch\n",
        "from datasets import Dataset, load_dataset\n",
        "from transformers import AutoTokenizer, AutoModelForCausalLM, BitsAndBytesConfig, pipeline, TrainingArguments"
      ]
    },
    {
      "cell_type": "code",
      "execution_count": null,
      "metadata": {
        "id": "9XpaNb-5Eqy9"
      },
      "outputs": [],
      "source": [
        "from datasets import load_dataset\n",
        "dataset = load_dataset(\"BLACKBUN/old_korean_newspaper_1897_1910_economy_politic_qa\")"
      ]
    },
    {
      "cell_type": "code",
      "source": [
        "BASE_MODEL = \"google/gemma-2b-it\"\n",
        "FINETUNE_MODEL = \"./gemma-2b-it-sum-ko\"\n",
        "\n",
        "finetune_model = AutoModelForCausalLM.from_pretrained(FINETUNE_MODEL, device_map={\"\":0})\n",
        "tokenizer = AutoTokenizer.from_pretrained(BASE_MODEL)"
      ],
      "metadata": {
        "id": "_HGQKGPVE_v4"
      },
      "execution_count": null,
      "outputs": []
    },
    {
      "cell_type": "code",
      "source": [
        "# pipe_finetuned = pipeline(\"text-generation\", model=finetune_model, tokenizer=tokenizer, max_new_tokens=512)"
      ],
      "metadata": {
        "id": "b4Ir0eefFF9X"
      },
      "execution_count": null,
      "outputs": []
    },
    {
      "cell_type": "code",
      "source": [
        "# question = dataset['train']['Question'][1000]\n",
        "# answer = dataset['train']['Answer'][1000]"
      ],
      "metadata": {
        "id": "VHPAVxR2FL3-"
      },
      "execution_count": null,
      "outputs": []
    }
  ],
  "metadata": {
    "language_info": {
      "name": "python"
    },
    "colab": {
      "provenance": []
    }
  },
  "nbformat": 4,
  "nbformat_minor": 0
}